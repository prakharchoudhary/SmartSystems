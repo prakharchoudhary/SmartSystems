{
 "cells": [
  {
   "cell_type": "markdown",
   "metadata": {},
   "source": [
    "# Searching and Ranking\n",
    "Herein, we will carry out the necessary steps to crawl, index, and search a set of pages, and even rank their results in many ways."
   ]
  },
  {
   "cell_type": "markdown",
   "metadata": {},
   "source": [
    "## Building a search engine\n",
    "1. __Develop a way to collect the documents.__ Usually, involves _crawling_.\n",
    "2. __Once documents are collect, they need to be indexed__. This involves creating a big table of the documents and the locations of all the different words. The index simply has to _store a reference_ (such as a file system path or URL) to their locations.\n",
    "3. __Returning a ranked list of documents from a query.__\n",
    "\n",
    "Additionaly we will build a neural network for ranking queries.The neural network will learn to associate searches with results based on what links people click on after they get a list of search results. The neural network will use this information to change the ordering of the results to better reflect what people have clicked on in the past."
   ]
  },
  {
   "cell_type": "markdown",
   "metadata": {},
   "source": [
    "### Building a Crawler\n",
    "Steps:\n",
    "1. Download the pages.\n",
    "2. Pass them to the indexer\n",
    "3. Parse the pages to find all the links to the pages that have to be crawled.\n",
    "\n",
    "_The code for class __Crawler__ is present in __searchengine.py___"
   ]
  },
  {
   "cell_type": "code",
   "execution_count": 6,
   "metadata": {},
   "outputs": [
    {
     "name": "stdout",
     "output_type": "stream",
     "text": [
      "Indexing http://kiwitobes.com/\n",
      "Indexing https://kiwitobes.com/2013/10/22/tuxedo-jacket/comment-page-1/\n",
      "Indexing https://kiwitobes.com/author/kiwitobes/\n",
      "Indexing https://kiwitobes.com/feed/\n",
      "Indexing https://kiwitobes.wordpress.com/wp-login.php\n",
      "Indexing https://kiwitobes.com/2013/10/22/tuxedo-jacket/\n",
      "Indexing https://kiwitobes.com/category/uncategorized/\n",
      "Indexing https://kiwitobes.com/comments/feed/\n",
      "Could not open http://www.adafruit.com/products/1430\n",
      "Indexing https://kiwitobes.com/2013/09/26/twitter-lights-and-memory-limits-with-arduino-yun/\n",
      "Indexing https://kiwitobes.com/2013/08/\n",
      "Indexing http://kiwitobes.com/\n",
      "Indexing https://kiwitobes.com/\n",
      "Indexing https://www.temboo.com/arduino/read-a-tweet\n",
      "Indexing http://cocktaillabs.tumblr.com/\n",
      "Indexing http://www.amazon.com/gp/product/B00F6YJK3S/ref=as_li_qf_sp_asin_tl?ie=UTF8&camp=1789&creative=9325&creativeASIN=B00F6YJK3S&linkCode=as2&tag=tasktoy-20\n",
      "Indexing https://kiwitobes.com/about/\n",
      "Indexing https://kiwitobes.files.wordpress.com/2013/09/img_20130919_224325.jpg\n",
      "Indexing https://wordpress.com/\n",
      "Indexing https://kiwitobes.com/2013/09/01/sound-reactive-ge-christmas-lights/\n",
      "Indexing https://wordpress.com/?ref=footer_blog\n",
      "Indexing https://kiwitobes.com/2013/10/\n",
      "Indexing https://www.temboo.com/arduino\n",
      "Indexing https://kiwitobes.com/2013/09/\n",
      "Indexing https://kiwitobes.com/2013/08/22/a-hack-journal/\n",
      "Indexing http://twitter.com/moubarak\n",
      "Indexing https://twitter.com/kiwitobes\n",
      "Indexing https://wordpress.com/start?ref=wplogin\n",
      "Indexing https://kiwitobes.com/2013/09/26/disco-stick/\n"
     ]
    }
   ],
   "source": [
    "\"\"\"\n",
    "Testing Crawler\n",
    "\"\"\"\n",
    "import searchengine\n",
    "pagelist = ['http://kiwitobes.com/']\n",
    "crawler = searchengine.crawler('')\n",
    "crawler.crawl(pagelist)"
   ]
  },
  {
   "cell_type": "markdown",
   "metadata": {
    "collapsed": true
   },
   "source": [
    "### Building the index\n",
    "1. Index is a list of all the different words, along with the documents in which they appear and their locations in the documents.\n",
    "2. We’ll be looking at the actual text on the page and ignoring nontext elements.\n",
    "3. We’ll also be indexing individual words with all the punctuation characters removed."
   ]
  },
  {
   "cell_type": "code",
   "execution_count": 20,
   "metadata": {},
   "outputs": [],
   "source": [
    "\"\"\"\n",
    "setting up the schema (commands already present in the code)\n",
    "\"\"\"\n",
    "reload(searchengine)\n",
    "crawler=searchengine.crawler('searchindex.db')\n",
    "crawler.createindextables()"
   ]
  },
  {
   "cell_type": "markdown",
   "metadata": {},
   "source": [
    "### Finding the Words of a Page\n",
    "`gettextonly` function returns a long string containing all the text on the page.<br>\n",
    "`separatewords` splits a string into a list of separate words so that they can be added to the index. This function considers anything nonalphanumeric to be a separator.<br>\n",
    "_Note(future implementation): Use a stemming algorithm in place of the normal seperatewords function._"
   ]
  },
  {
   "cell_type": "code",
   "execution_count": null,
   "metadata": {
    "collapsed": true
   },
   "outputs": [],
   "source": []
  }
 ],
 "metadata": {
  "kernelspec": {
   "display_name": "Python 2",
   "language": "python",
   "name": "python2"
  },
  "language_info": {
   "codemirror_mode": {
    "name": "ipython",
    "version": 2
   },
   "file_extension": ".py",
   "mimetype": "text/x-python",
   "name": "python",
   "nbconvert_exporter": "python",
   "pygments_lexer": "ipython2",
   "version": "2.7.12"
  }
 },
 "nbformat": 4,
 "nbformat_minor": 2
}
