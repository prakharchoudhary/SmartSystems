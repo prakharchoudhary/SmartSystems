{
 "cells": [
  {
   "cell_type": "markdown",
   "metadata": {},
   "source": [
    "## Collaborative Filtering\n",
    "\n",
    "A collaborative filtering algorithm usually works by searching a large group of people and finding a smaller set with tastes similar to ours. It looks at other things they like and combine them to create a ranked list of suggestions."
   ]
  },
  {
   "cell_type": "code",
   "execution_count": 8,
   "metadata": {},
   "outputs": [],
   "source": [
    "'''\n",
    "We shall use a self-prepared nested dictionary as a small exemplary dataset.\n",
    "'''\n",
    "from recommendations import critics\n",
    "# exemplary run\n",
    "# # check_1---------------------------------------------------\n",
    "# critics['Lisa Rose']['Lady in the Water']\n",
    "\n",
    "# # check_2---------------------------------------------------\n",
    "# critics['Toby']['Snakes on a Plane']=4.5\n",
    "# critics['Toby']"
   ]
  },
  {
   "cell_type": "markdown",
   "metadata": {},
   "source": [
    "## Finding Similar Users\n",
    "This can be achieved by comparing each person with every other person and calculating a *similarity score*.\n",
    "There are a few ways to achieve this score. Two of them which I shall be using here are:\n",
    "1. Euclidean Distance\n",
    "2. Pearson Correlation"
   ]
  },
  {
   "cell_type": "markdown",
   "metadata": {},
   "source": [
    "### Euclidean Distance Score"
   ]
  },
  {
   "cell_type": "code",
   "execution_count": 19,
   "metadata": {},
   "outputs": [],
   "source": [
    "from math import sqrt\n",
    "\n",
    "# Returns a distance-based similarity score for person1 and person2\n",
    "def sim_distance(prefs, person1, person2):\n",
    "    # Get the list of shared_items\n",
    "    si = {}\n",
    "    for item in prefs[person1]:\n",
    "        if item in prefs[person2]:\n",
    "            si[item]=1\n",
    "            \n",
    "    # if they have no ratings in common, return 0\n",
    "    if len(si)==0: return 0\n",
    "    \n",
    "    #Add up the squares of all the differences\n",
    "    sum_of_squares = sum([pow(prefs[person1][item]-prefs[person2][item], 2)\\\n",
    "                          for item in prefs[person1] if item in prefs[person2]])\n",
    "    \n",
    "    return 1/(1+sum_of_squares)"
   ]
  },
  {
   "cell_type": "code",
   "execution_count": 24,
   "metadata": {},
   "outputs": [
    {
     "data": {
      "text/plain": [
       "0.148148"
      ]
     },
     "execution_count": 24,
     "metadata": {},
     "output_type": "execute_result"
    }
   ],
   "source": [
    "round(sim_distance(recommendations.critics, 'Lisa Rose', 'Gene Seymour'), 6)"
   ]
  },
  {
   "cell_type": "code",
   "execution_count": 35,
   "metadata": {
    "scrolled": false
   },
   "outputs": [
    {
     "name": "stdout",
     "output_type": "stream",
     "text": [
      "Similarity score for Jack Matthews and Mick LaSalle: 0.137931\n",
      "Similarity score for Jack Matthews and Claudia Puig: 0.181818\n",
      "Similarity score for Jack Matthews and Lisa Rose: 0.210526\n",
      "Similarity score for Jack Matthews and Toby: 0.117647\n",
      "Similarity score for Jack Matthews and Gene Seymour: 0.8\n",
      "Similarity score for Jack Matthews and Michael Phillips: 0.181818\n",
      "Similarity score for Mick LaSalle and Claudia Puig: 0.173913\n",
      "Similarity score for Mick LaSalle and Lisa Rose: 0.333333\n",
      "Similarity score for Mick LaSalle and Toby: 0.307692\n",
      "Similarity score for Mick LaSalle and Gene Seymour: 0.129032\n",
      "Similarity score for Mick LaSalle and Michael Phillips: 0.285714\n",
      "Similarity score for Claudia Puig and Lisa Rose: 0.285714\n",
      "Similarity score for Claudia Puig and Toby: 0.235294\n",
      "Similarity score for Claudia Puig and Gene Seymour: 0.133333\n",
      "Similarity score for Claudia Puig and Michael Phillips: 0.571429\n",
      "Similarity score for Lisa Rose and Toby: 0.222222\n",
      "Similarity score for Lisa Rose and Gene Seymour: 0.148148\n",
      "Similarity score for Lisa Rose and Michael Phillips: 0.444444\n",
      "Similarity score for Toby and Gene Seymour: 0.108108\n",
      "Similarity score for Toby and Michael Phillips: 0.285714\n",
      "Similarity score for Gene Seymour and Michael Phillips: 0.210526\n"
     ]
    }
   ],
   "source": [
    "'''\n",
    "Lets us find out the similarity index each person against the rest.\n",
    "'''\n",
    "all_critics = []\n",
    "for p1 in recommendations.critics.keys():\n",
    "    all_critics.append(p1)\n",
    "\n",
    "done_matches = []\n",
    "for p1 in all_critics:\n",
    "    for p2 in all_critics:\n",
    "        compare = [p1, p2]\n",
    "        compare.sort()\n",
    "        if p2 is not p1 and compare not in done_matches:\n",
    "            print(\"Similarity score for {} and {}: {}\".format(p1, p2,\n",
    "                                                             round(sim_distance(recommendations.critics, p1, p2), 6)\n",
    "                                                             ))\n",
    "            done_matches.append(compare)\n",
    "            "
   ]
  },
  {
   "cell_type": "code",
   "execution_count": null,
   "metadata": {
    "collapsed": true
   },
   "outputs": [],
   "source": []
  }
 ],
 "metadata": {
  "kernelspec": {
   "display_name": "Python 2",
   "language": "python",
   "name": "python2"
  },
  "language_info": {
   "codemirror_mode": {
    "name": "ipython",
    "version": 2
   },
   "file_extension": ".py",
   "mimetype": "text/x-python",
   "name": "python",
   "nbconvert_exporter": "python",
   "pygments_lexer": "ipython2",
   "version": "2.7.12"
  }
 },
 "nbformat": 4,
 "nbformat_minor": 2
}
