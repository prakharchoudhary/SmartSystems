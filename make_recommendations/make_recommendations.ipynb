{
 "cells": [
  {
   "cell_type": "markdown",
   "metadata": {},
   "source": [
    "## Collaborative Filtering\n",
    "\n",
    "A collaborative filtering algorithm usually works by searching a large group of people and finding a smaller set with tastes similar to ours. It looks at other things they like and combine them to create a ranked list of suggestions."
   ]
  },
  {
   "cell_type": "code",
   "execution_count": 8,
   "metadata": {},
   "outputs": [],
   "source": [
    "'''\n",
    "We shall use a self-prepared nested dictionary as a small exemplary dataset.\n",
    "'''\n",
    "from recommendations import critics\n",
    "# exemplary run\n",
    "# # check_1---------------------------------------------------\n",
    "# critics['Lisa Rose']['Lady in the Water']\n",
    "\n",
    "# # check_2---------------------------------------------------\n",
    "# critics['Toby']['Snakes on a Plane']=4.5\n",
    "# critics['Toby']"
   ]
  },
  {
   "cell_type": "markdown",
   "metadata": {},
   "source": [
    "## Finding Similar Users\n",
    "This can be achieved by comparing each person with every other person and calculating a *similarity score*.\n",
    "There are a few ways to achieve this score. Two of them which I shall be using here are:\n",
    "1. Euclidean Distance\n",
    "2. Pearson Correlation"
   ]
  },
  {
   "cell_type": "markdown",
   "metadata": {},
   "source": [
    "### Euclidean Distance Score"
   ]
  },
  {
   "cell_type": "code",
   "execution_count": 19,
   "metadata": {},
   "outputs": [],
   "source": [
    "from math import sqrt\n",
    "\n",
    "# Returns a distance-based similarity score for person1 and person2\n",
    "def sim_distance(prefs, person1, person2):\n",
    "    # Get the list of shared_items\n",
    "    si = {}\n",
    "    for item in prefs[person1]:\n",
    "        if item in prefs[person2]:\n",
    "            si[item]=1\n",
    "            \n",
    "    # if they have no ratings in common, return 0\n",
    "    if len(si)==0: return 0\n",
    "    \n",
    "    #Add up the squares of all the differences\n",
    "    sum_of_squares = sum([pow(prefs[person1][item]-prefs[person2][item], 2)\\\n",
    "                          for item in prefs[person1] if item in prefs[person2]])\n",
    "    \n",
    "    return 1/(1+sum_of_squares)"
   ]
  },
  {
   "cell_type": "code",
   "execution_count": 36,
   "metadata": {},
   "outputs": [
    {
     "data": {
      "text/plain": [
       "0.148148"
      ]
     },
     "execution_count": 36,
     "metadata": {},
     "output_type": "execute_result"
    }
   ],
   "source": [
    "# exemplary run\n",
    "round(sim_distance(recommendations.critics, 'Lisa Rose', 'Gene Seymour'), 6)"
   ]
  },
  {
   "cell_type": "code",
   "execution_count": 47,
   "metadata": {
    "scrolled": false
   },
   "outputs": [],
   "source": [
    "'''\n",
    "Lets us find out the similarity index of each person against the rest.\n",
    "'''\n",
    "def find_similarity(scorer):\n",
    "    all_critics = []\n",
    "    for p1 in recommendations.critics.keys():\n",
    "        all_critics.append(p1)\n",
    "\n",
    "    done_matches = []\n",
    "    print(\"Similarity score:\")\n",
    "    for p1 in all_critics:\n",
    "        for p2 in all_critics:\n",
    "            compare = [p1, p2]\n",
    "            compare.sort()\n",
    "            if p2 is not p1 and compare not in done_matches:\n",
    "                print(\"{} and {}: {}\".format(p1, p2,\n",
    "                                             round(scorer(recommendations.critics, p1, p2), 6)\n",
    "                                            )\n",
    "                     )\n",
    "                done_matches.append(compare)\n",
    "            "
   ]
  },
  {
   "cell_type": "code",
   "execution_count": 59,
   "metadata": {},
   "outputs": [
    {
     "name": "stdout",
     "output_type": "stream",
     "text": [
      "Similarity score:\n",
      "Jack Matthews and Mick LaSalle: 0.137931\n",
      "Jack Matthews and Claudia Puig: 0.181818\n",
      "Jack Matthews and Lisa Rose: 0.210526\n",
      "Jack Matthews and Toby: 0.117647\n",
      "Jack Matthews and Gene Seymour: 0.8\n",
      "Jack Matthews and Michael Phillips: 0.181818\n",
      "Mick LaSalle and Claudia Puig: 0.173913\n",
      "Mick LaSalle and Lisa Rose: 0.333333\n",
      "Mick LaSalle and Toby: 0.307692\n",
      "Mick LaSalle and Gene Seymour: 0.129032\n",
      "Mick LaSalle and Michael Phillips: 0.285714\n",
      "Claudia Puig and Lisa Rose: 0.285714\n",
      "Claudia Puig and Toby: 0.235294\n",
      "Claudia Puig and Gene Seymour: 0.133333\n",
      "Claudia Puig and Michael Phillips: 0.571429\n",
      "Lisa Rose and Toby: 0.222222\n",
      "Lisa Rose and Gene Seymour: 0.148148\n",
      "Lisa Rose and Michael Phillips: 0.444444\n",
      "Toby and Gene Seymour: 0.108108\n",
      "Toby and Michael Phillips: 0.285714\n",
      "Gene Seymour and Michael Phillips: 0.210526\n"
     ]
    }
   ],
   "source": [
    "'''\n",
    "Find similarity score for all\n",
    "'''\n",
    "find_similarity(sim_distance)"
   ]
  },
  {
   "cell_type": "markdown",
   "metadata": {},
   "source": [
    "### Pearson Correlation Score\n",
    "**Algoithm:**\n",
    "1. First find the items rated by both critics.\n",
    "2. Calculate the sums and sum of squares of the ratings for the two critics\n",
    "3. Calculate the sum of products of their ratings.\n",
    "4. Use the results to calculate Pearson Correlation coefficient."
   ]
  },
  {
   "cell_type": "code",
   "execution_count": 63,
   "metadata": {},
   "outputs": [],
   "source": [
    "# Returns the Pearson correlation coefficient for p1 and p2\n",
    "def sim_pearson(prefs,p1,p2):\n",
    "    # Get the list of mutually rated items\n",
    "    si={}\n",
    "    for item in prefs[p1]:\n",
    "        if item in prefs[p2]: si[item]=1\n",
    "    \n",
    "    # Find the number of elements\n",
    "    n=len(si)\n",
    "    \n",
    "    # if they are no ratings in common, return 0\n",
    "    if n==0: return 0\n",
    "    \n",
    "    # Add up all the preferences\n",
    "    sum1=sum([prefs[p1][it] for it in si])\n",
    "    sum2=sum([prefs[p2][it] for it in si])\n",
    "    \n",
    "    # Sum up the squares\n",
    "    sum1Sq=sum([pow(prefs[p1][it],2) for it in si])\n",
    "    sum2Sq=sum([pow(prefs[p2][it],2) for it in si])\n",
    "    \n",
    "    # Sum up the products\n",
    "    pSum=sum([prefs[p1][it]*prefs[p2][it] for it in si])\n",
    "    \n",
    "    # Calculate Pearson score\n",
    "    num=pSum-(sum1*sum2/n)\n",
    "    den=sqrt((sum1Sq-pow(sum1,2)/n)*(sum2Sq-pow(sum2,2)/n))\n",
    "    if den==0: return 0\n",
    "    r=num/den\n",
    "    return r"
   ]
  },
  {
   "cell_type": "code",
   "execution_count": 64,
   "metadata": {},
   "outputs": [
    {
     "name": "stdout",
     "output_type": "stream",
     "text": [
      "0.396059017191\n"
     ]
    }
   ],
   "source": [
    "# Exemplary run\n",
    "print sim_pearson(recommendations.critics,'Lisa Rose','Gene Seymour')"
   ]
  },
  {
   "cell_type": "code",
   "execution_count": 65,
   "metadata": {},
   "outputs": [
    {
     "name": "stdout",
     "output_type": "stream",
     "text": [
      "Similarity score:\n",
      "Jack Matthews and Mick LaSalle: 0.211289\n",
      "Jack Matthews and Claudia Puig: 0.028571\n",
      "Jack Matthews and Lisa Rose: 0.747018\n",
      "Jack Matthews and Toby: 0.662849\n",
      "Jack Matthews and Gene Seymour: 0.963796\n",
      "Jack Matthews and Michael Phillips: 0.13484\n",
      "Mick LaSalle and Claudia Puig: 0.566947\n",
      "Mick LaSalle and Lisa Rose: 0.594089\n",
      "Mick LaSalle and Toby: 0.924473\n",
      "Mick LaSalle and Gene Seymour: 0.411765\n",
      "Mick LaSalle and Michael Phillips: -0.258199\n",
      "Claudia Puig and Lisa Rose: 0.566947\n",
      "Claudia Puig and Toby: 0.893405\n",
      "Claudia Puig and Gene Seymour: 0.31497\n",
      "Claudia Puig and Michael Phillips: 1.0\n",
      "Lisa Rose and Toby: 0.991241\n",
      "Lisa Rose and Gene Seymour: 0.396059\n",
      "Lisa Rose and Michael Phillips: 0.40452\n",
      "Toby and Gene Seymour: 0.381246\n",
      "Toby and Michael Phillips: -1.0\n",
      "Gene Seymour and Michael Phillips: 0.204598\n"
     ]
    }
   ],
   "source": [
    "'''\n",
    "Find similarity score for all\n",
    "'''\n",
    "find_similarity(sim_pearson)"
   ]
  },
  {
   "cell_type": "code",
   "execution_count": null,
   "metadata": {
    "collapsed": true
   },
   "outputs": [],
   "source": []
  }
 ],
 "metadata": {
  "kernelspec": {
   "display_name": "Python 2",
   "language": "python",
   "name": "python2"
  },
  "language_info": {
   "codemirror_mode": {
    "name": "ipython",
    "version": 2
   },
   "file_extension": ".py",
   "mimetype": "text/x-python",
   "name": "python",
   "nbconvert_exporter": "python",
   "pygments_lexer": "ipython2",
   "version": "2.7.12"
  }
 },
 "nbformat": 4,
 "nbformat_minor": 2
}
