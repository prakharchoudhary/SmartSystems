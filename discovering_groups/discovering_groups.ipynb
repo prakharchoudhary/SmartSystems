{
 "cells": [
  {
   "cell_type": "markdown",
   "metadata": {},
   "source": [
    "# Discovering Groups\n",
    "\n",
    "We will expand on the previous ideas of making recommendations and learn data clustering, a method for discovering and visualizing groups of things, people, or ideas that are all closely related."
   ]
  },
  {
   "cell_type": "markdown",
   "metadata": {},
   "source": [
    "## Goals:\n",
    "1. How to prepare data from a variety of sources.\n",
    "2. Two different clustering algorithms\n",
    "3. More on distance metrics.\n",
    "4. Simple graphical visualization code for viewing the generated groups.\n",
    "5. A method for projecting very complicated datasets into two dimensions."
   ]
  },
  {
   "cell_type": "markdown",
   "metadata": {},
   "source": [
    "## Word Vectors\n",
    "- In the first dataset, the items that will be clustered are a set of 120 of the top blogs, and the data they’ll be clustered on is the number of times a particular set of words appears in each blog’s feed.\n",
    "\n",
    "- By clustering blogs based on word frequencies, it might be possible to determine if there are groups of blogs that frequently write about similar subjects or write in similar styles. Such a result could be very useful in searching, cataloging, and discovering the huge number of blogs that are currently online."
   ]
  },
  {
   "cell_type": "markdown",
   "metadata": {
    "collapsed": true
   },
   "source": [
    "## Hierarchical Clustering\n",
    "- Hierarchical clustering builds up a hierarchy of groups by continuously merging the two most similar groups.\n",
    "- Each of these groups starts as a single item, in this case an individual blog.\n",
    "- In each iteration this method calculates the distances between every pair of groups, and the closest ones are merged together to form a new group."
   ]
  },
  {
   "cell_type": "code",
   "execution_count": 4,
   "metadata": {
    "collapsed": false,
    "scrolled": true
   },
   "outputs": [],
   "source": [
    "'''\n",
    "print the clusters\n",
    "'''\n",
    "import clusters\n",
    "blognames, words, data = clusters.readfile('blogdata.txt')\n",
    "clust = clusters.hcluster(data)\n",
    "#clusters.printclust(clust, labels=blognames)"
   ]
  },
  {
   "cell_type": "markdown",
   "metadata": {},
   "source": [
    "### Drawing a Dendogram\n",
    "- After hierarchical clustering is completed, you usually view the results in a type of graph called a dendrogram, which displays the nodes arranged into their hierarchy.\n",
    "- Dendrogram not only uses connections to show which items ended up in each cluster, it also uses the distance to show how far apart the items were.\n",
    "- Rendering the graph this way can help you determine how similar the items within a cluster are, which could be interpreted as the tightness of the cluster."
   ]
  },
  {
   "cell_type": "code",
   "execution_count": 7,
   "metadata": {
    "collapsed": true
   },
   "outputs": [],
   "source": [
    "clusters.drawdendogram(clust, blognames, jpeg=\"visualizations/blogclust.jpg\")"
   ]
  },
  {
   "cell_type": "code",
   "execution_count": null,
   "metadata": {
    "collapsed": true
   },
   "outputs": [],
   "source": []
  }
 ],
 "metadata": {
  "anaconda-cloud": {},
  "kernelspec": {
   "display_name": "Python [default]",
   "language": "python",
   "name": "python2"
  },
  "language_info": {
   "codemirror_mode": {
    "name": "ipython",
    "version": 2
   },
   "file_extension": ".py",
   "mimetype": "text/x-python",
   "name": "python",
   "nbconvert_exporter": "python",
   "pygments_lexer": "ipython2",
   "version": "2.7.12"
  }
 },
 "nbformat": 4,
 "nbformat_minor": 2
}
