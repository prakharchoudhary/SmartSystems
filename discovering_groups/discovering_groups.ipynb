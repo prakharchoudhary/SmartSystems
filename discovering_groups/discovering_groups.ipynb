{
 "cells": [
  {
   "cell_type": "markdown",
   "metadata": {},
   "source": [
    "# Discovering Groups\n",
    "\n",
    "We will expand on the previous ideas of making recommendations and learn data clustering, a method for discovering and visualizing groups of things, people, or ideas that are all closely related."
   ]
  },
  {
   "cell_type": "markdown",
   "metadata": {},
   "source": [
    "## Goals:\n",
    "1. How to prepare data from a variety of sources.\n",
    "2. Two different clustering algorithms\n",
    "3. More on distance metrics.\n",
    "4. Simple graphical visualization code for viewing the generated groups.\n",
    "5. A method for projecting very complicated datasets into two dimensions."
   ]
  },
  {
   "cell_type": "markdown",
   "metadata": {},
   "source": [
    "## Word Vectors\n",
    "- In the first dataset, the items that will be clustered are a set of 120 of the top blogs, and the data they’ll be clustered on is the number of times a particular set of words appears in each blog’s feed.\n",
    "\n",
    "- By clustering blogs based on word frequencies, it might be possible to determine if there are groups of blogs that frequently write about similar subjects or write in similar styles. Such a result could be very useful in searching, cataloging, and discovering the huge number of blogs that are currently online."
   ]
  },
  {
   "cell_type": "markdown",
   "metadata": {
    "collapsed": true
   },
   "source": [
    "## Hierarchical Clustering\n",
    "- Hierarchical clustering builds up a hierarchy of groups by continuously merging the two most similar groups.\n",
    "- Each of these groups starts as a single item, in this case an individual blog.\n",
    "- In each iteration this method calculates the distances between every pair of groups, and the closest ones are merged together to form a new group."
   ]
  },
  {
   "cell_type": "code",
   "execution_count": 3,
   "metadata": {
    "collapsed": true,
    "scrolled": true
   },
   "outputs": [],
   "source": [
    "'''\n",
    "print the clusters\n",
    "'''\n",
    "import clusters\n",
    "blognames, words, data = clusters.readfile('blogdata.txt')\n",
    "clust = clusters.hcluster(data)\n",
    "#clusters.printclust(clust, labels=blognames)"
   ]
  },
  {
   "cell_type": "markdown",
   "metadata": {},
   "source": [
    "### Drawing a Dendogram\n",
    "- After hierarchical clustering is completed, you usually view the results in a type of graph called a dendrogram, which displays the nodes arranged into their hierarchy.\n",
    "- Dendrogram not only uses connections to show which items ended up in each cluster, it also uses the distance to show how far apart the items were.\n",
    "- Rendering a dendogram can help us determine how similar the items within a cluster are, which could be interpreted as the tightness of the cluster."
   ]
  },
  {
   "cell_type": "code",
   "execution_count": 7,
   "metadata": {
    "collapsed": true
   },
   "outputs": [],
   "source": [
    "clusters.drawdendogram(clust, blognames, jpeg=\"visualizations/blogclust.jpg\")"
   ]
  },
  {
   "cell_type": "markdown",
   "metadata": {
    "collapsed": true
   },
   "source": [
    "### Column Clustering\n",
    "- In the blog dataset, the columns represent words, and it’s potentially interesting to see which words are commonly used together.\n",
    "- The easiest way is to rotate the entire dataset so that the columns (the words) become rows, each with a list of numbers indicating how many times that particular word appears in each of the blogs."
   ]
  },
  {
   "cell_type": "code",
   "execution_count": 5,
   "metadata": {
    "collapsed": true
   },
   "outputs": [],
   "source": [
    "rdata = clusters.rotatematrix(data)\n",
    "wordclust = clusters.hcluster(rdata)\n",
    "clusters.drawdendogram(wordclust, labels=words, jpeg='visualizations/wordclust.jpg')"
   ]
  },
  {
   "cell_type": "markdown",
   "metadata": {},
   "source": [
    "### Drawbacks\n",
    "1. The tree view doesn't really break the data into distinct groups without additional work, and the algorithm is computationally intensive.\n",
    "2. Since, the relationship between every pair of items must be calculated(-> pearson score in our case) and then recalculated when the items are merged, the algorithm will run very slowly on large datasets."
   ]
  },
  {
   "cell_type": "markdown",
   "metadata": {},
   "source": [
    " ## K-Means Clustering\n",
    " - Considering all above mentioned drawbacks. Let's try another approach.\n",
    " - In this algorithm, it is told in advance how many distinct clusters to generate. The algorithm will determine the size of clusters based on the structure of data.\n",
    "<br>**So, How does it works?**\n",
    "    1. It begins with 'k' randomly placed *centroids*, and assigns every item to the nearest one.\n",
    "    2. After the assignment, the centroids are moved to the average location of all the nodes assigned to them, and the assignments are redone.\n",
    "    3. This process repeats until the assignments stop changing."
   ]
  },
  {
   "cell_type": "code",
   "execution_count": 6,
   "metadata": {},
   "outputs": [
    {
     "name": "stdout",
     "output_type": "stream",
     "text": [
      "Iteration 0\n",
      "Iteration 1\n",
      "Iteration 2\n",
      "Iteration 3\n",
      "Iteration 4\n",
      "Iteration 5\n",
      "Iteration 6\n"
     ]
    }
   ],
   "source": [
    "reload(clusters)\n",
    "kclust = clusters.kcluster(data, k=10)"
   ]
  },
  {
   "cell_type": "markdown",
   "metadata": {},
   "source": [
    "## Clustering of real data\n",
    "We will go through the process of creating a dataset from the Zebo web site and carrying out k-means clustering on it.<br />\n",
    "*The code is present in clusters.py*"
   ]
  },
  {
   "cell_type": "code",
   "execution_count": null,
   "metadata": {
    "collapsed": true
   },
   "outputs": [],
   "source": []
  }
 ],
 "metadata": {
  "anaconda-cloud": {},
  "kernelspec": {
   "display_name": "Python 2",
   "language": "python",
   "name": "python2"
  },
  "language_info": {
   "codemirror_mode": {
    "name": "ipython",
    "version": 2
   },
   "file_extension": ".py",
   "mimetype": "text/x-python",
   "name": "python",
   "nbconvert_exporter": "python",
   "pygments_lexer": "ipython2",
   "version": "2.7.12"
  }
 },
 "nbformat": 4,
 "nbformat_minor": 2
}
